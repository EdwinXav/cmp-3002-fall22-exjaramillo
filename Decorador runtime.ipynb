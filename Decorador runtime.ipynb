{
 "cells": [
  {
   "cell_type": "code",
   "execution_count": null,
   "id": "30271d10",
   "metadata": {},
   "outputs": [],
   "source": [
    "#Creación del decorador con un pause de 10^6 segundos\n",
    "def timer_func(func):\n",
    "    def wrap_func(*args, **kwargs):\n",
    "        t1 = time()*10**6\n",
    "        result = func(*args, **kwargs)\n",
    "        t2 = time()*10**6\n",
    "        t_total = t2-t1-10**6\n",
    "        return result, t_total\n",
    "    return wrap_func"
   ]
  }
 ],
 "metadata": {
  "kernelspec": {
   "display_name": "Python 3",
   "language": "python",
   "name": "python3"
  },
  "language_info": {
   "codemirror_mode": {
    "name": "ipython",
    "version": 3
   },
   "file_extension": ".py",
   "mimetype": "text/x-python",
   "name": "python",
   "nbconvert_exporter": "python",
   "pygments_lexer": "ipython3",
   "version": "3.8.8"
  }
 },
 "nbformat": 4,
 "nbformat_minor": 5
}
