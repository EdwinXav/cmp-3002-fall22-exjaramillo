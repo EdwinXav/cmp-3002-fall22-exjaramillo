{
 "cells": [
  {
   "cell_type": "markdown",
   "id": "012eda26",
   "metadata": {},
   "source": [
    "# Homework 2\n",
    "### Edwin Jaramillo (00320842)\n",
    "### 25/10/2022"
   ]
  },
  {
   "cell_type": "markdown",
   "id": "6d677bee",
   "metadata": {},
   "source": [
    "### 1. Implement the class `Stacks` and all its methods using singly linked lists. Analyze the runtime and memory complexity, and compare with what we studied in class"
   ]
  },
  {
   "cell_type": "code",
   "execution_count": 1,
   "id": "9a613df7",
   "metadata": {},
   "outputs": [],
   "source": [
    "class Node:\n",
    "    \"\"\"\n",
    "    Implementation of a node\n",
    "    \"\"\"\n",
    "    def __init__(self, val=None):\n",
    "        self.val = val\n",
    "        self.next_node = None\n",
    "\n",
    "class Stack:\n",
    "    def __init__(self, head_node=None):\n",
    "        self.head_node = head_node\n",
    "        \n",
    "    def empty(self):\n",
    "        \"\"\"\n",
    "        Is the stack empty?\n",
    "        \"\"\"\n",
    "        if self.head_node == None:\n",
    "            return True\n",
    "        else:\n",
    "            return False\n",
    " \n",
    "    def push(self, val):\n",
    "        \"\"\"\n",
    "        Add new item to the stack\n",
    "        \"\"\"\n",
    "        if self.head_node is None:\n",
    "            self.head_node = Node(val)\n",
    "        else:\n",
    "            new_node = Node(val)\n",
    "            new_node.next_node = self.head_node\n",
    "            self.head_node = new_node\n",
    " \n",
    "    def pop(self):\n",
    "        \"\"\"\n",
    "        Remove an element from the stack\n",
    "        \"\"\"\n",
    "        if self.empty():\n",
    "            return None\n",
    "        else:\n",
    "            popped_node = self.head_node\n",
    "            self.head_node = self.head_node.next_node\n",
    "            popped_node.next_node = None\n",
    "            \n",
    "            return popped_node.val\n",
    "        \n",
    "    def top(self):\n",
    "        \"\"\"\n",
    "        Show the top element of the stack\n",
    "        \"\"\"\n",
    "        if self.empty():\n",
    "            return None\n",
    "        else:\n",
    "            return self.head_node.val\n",
    "        \n",
    "    def size(self):\n",
    "        \"\"\"\n",
    "        Return size of the stack\n",
    "        \"\"\"\n",
    "        if self.empty():\n",
    "            print (\"The stack is empty\")\n",
    "        else:\n",
    "            node = self.head_node\n",
    "            counter = 0\n",
    "            while node:\n",
    "                node = node.next_node\n",
    "                counter += 1\n",
    "            print (counter)  \n"
   ]
  },
  {
   "cell_type": "code",
   "execution_count": 2,
   "id": "9ebe8f64",
   "metadata": {},
   "outputs": [],
   "source": [
    "#Create a stack\n",
    "S = Stack()\n",
    "\n",
    "#Push elements\n",
    "S.push(1)\n",
    "S.push(2)\n",
    "S.push(3)"
   ]
  },
  {
   "cell_type": "code",
   "execution_count": 3,
   "id": "52f6bf51",
   "metadata": {},
   "outputs": [
    {
     "name": "stdout",
     "output_type": "stream",
     "text": [
      "3\n"
     ]
    }
   ],
   "source": [
    "#Show the size of the stack\n",
    "S.size()"
   ]
  },
  {
   "cell_type": "code",
   "execution_count": 4,
   "id": "76fd0e37",
   "metadata": {},
   "outputs": [
    {
     "data": {
      "text/plain": [
       "3"
      ]
     },
     "execution_count": 4,
     "metadata": {},
     "output_type": "execute_result"
    }
   ],
   "source": [
    "#Pop the head of the stack\n",
    "S.pop()"
   ]
  },
  {
   "cell_type": "code",
   "execution_count": 5,
   "id": "50921f9a",
   "metadata": {},
   "outputs": [
    {
     "data": {
      "text/plain": [
       "False"
      ]
     },
     "execution_count": 5,
     "metadata": {},
     "output_type": "execute_result"
    }
   ],
   "source": [
    "#Check if the stack is empty\n",
    "S.empty()"
   ]
  },
  {
   "cell_type": "code",
   "execution_count": 6,
   "id": "f3f34ab1",
   "metadata": {},
   "outputs": [
    {
     "data": {
      "text/plain": [
       "2"
      ]
     },
     "execution_count": 6,
     "metadata": {},
     "output_type": "execute_result"
    }
   ],
   "source": [
    "S.top()"
   ]
  },
  {
   "cell_type": "code",
   "execution_count": 7,
   "id": "6f832b24",
   "metadata": {},
   "outputs": [
    {
     "data": {
      "text/plain": [
       "1"
      ]
     },
     "execution_count": 7,
     "metadata": {},
     "output_type": "execute_result"
    }
   ],
   "source": [
    "S.pop()\n",
    "S.pop()"
   ]
  },
  {
   "cell_type": "code",
   "execution_count": 8,
   "id": "c71c60e4",
   "metadata": {},
   "outputs": [
    {
     "data": {
      "text/plain": [
       "True"
      ]
     },
     "execution_count": 8,
     "metadata": {},
     "output_type": "execute_result"
    }
   ],
   "source": [
    "S.empty()"
   ]
  },
  {
   "cell_type": "code",
   "execution_count": 9,
   "id": "49238ba1",
   "metadata": {},
   "outputs": [
    {
     "name": "stdout",
     "output_type": "stream",
     "text": [
      "The stack is empty\n"
     ]
    }
   ],
   "source": [
    "S.size()"
   ]
  },
  {
   "cell_type": "markdown",
   "id": "4a3a9f46",
   "metadata": {},
   "source": [
    "Time Complexity: O(1) as we are not performing any kind of traversal over the list.\n",
    "Comparing with what we studied in class we can see that both have time complexity O(1)."
   ]
  },
  {
   "cell_type": "markdown",
   "id": "bc2655ce",
   "metadata": {},
   "source": [
    "### 2. Write a method part of the linked list class that will reverse the linked list. Your implementation should visit each node in the list only one time, and should use $O(1)$ of extra memory.\n",
    "\n",
    "\n",
    "> For example, if the list is:\n",
    "\n",
    "> A -> B -> C -> D -> null\n",
    "\n",
    "> The method must return:\n",
    "\n",
    "> D -> C -> B -> A -> null\n",
    "\n"
   ]
  },
  {
   "cell_type": "code",
   "execution_count": 10,
   "id": "c507bd2e",
   "metadata": {},
   "outputs": [],
   "source": [
    "class Node:\n",
    "    \"\"\"\n",
    "    Implementation of a node\n",
    "    \"\"\"\n",
    "    def __init__(self, val=None):\n",
    "        self.val = val\n",
    "        self.next_node = None\n",
    "    \n",
    "    def set_next_node(self, next_node):\n",
    "        self.next_node = next_node\n",
    "\n",
    "\n",
    "class Singly_linked_list:\n",
    "    \"\"\"\n",
    "    Implementation of a singly linked list\n",
    "    \"\"\"\n",
    "    def __init__(self, head_node=None):\n",
    "        self.head_node = head_node\n",
    "        \n",
    "    def list_traversed(self):\n",
    "        node = self.head_node\n",
    "        while node:\n",
    "            print(node.val)\n",
    "            node = node.next_node\n",
    "\n",
    "    def insert_head(self, new_node):\n",
    "        new_node.set_next_node(self.head_node)\n",
    "        self.head_node = new_node\n",
    "        \n",
    "    def insert_tail(self, new_node):\n",
    "        node = self.head_node\n",
    "        prev = None\n",
    "        while node:\n",
    "            prev = node\n",
    "            node = node.next_node\n",
    "        prev.set_next_node(new_node)\n",
    "        \n",
    "    def insert_middle(self, new_node, value):\n",
    "        node = self.head_node\n",
    "        while node.val != value:\n",
    "            node = node.next_node\n",
    "        if node:\n",
    "            new_node.set_next_node(node.next_node)\n",
    "            node.set_next_node(new_node)\n",
    "        else:\n",
    "            self.insert_tail(new_node) \n",
    "    \n",
    "    def reverselist(self):\n",
    "        \"\"\"\n",
    "        Implementation of a method that reverse the linked list\n",
    "        \"\"\"\n",
    "        prev_node = None\n",
    "        node = self.head_node\n",
    "        while node:\n",
    "            next_node = node.next_node\n",
    "            node.next_node = prev_node\n",
    "            prev_node = node\n",
    "            node = next_node\n",
    "        self.head_node = prev_node"
   ]
  },
  {
   "cell_type": "code",
   "execution_count": 11,
   "id": "fafa0d52",
   "metadata": {},
   "outputs": [
    {
     "name": "stdout",
     "output_type": "stream",
     "text": [
      "A\n",
      "B\n",
      "C\n",
      "D\n"
     ]
    }
   ],
   "source": [
    "#Create nodes\n",
    "m1 = Node(\"A\")\n",
    "m2 = Node(\"B\")\n",
    "m3 = Node(\"C\")\n",
    "m4 = Node(\"D\")\n",
    "\n",
    "m1.set_next_node(m2)\n",
    "m2.set_next_node(m3)\n",
    "m3.set_next_node(m4)\n",
    "\n",
    "#Create a singly linked list\n",
    "list1 = Singly_linked_list(m1)\n",
    "\n",
    "#Show the singly linked list\n",
    "list1.list_traversed()"
   ]
  },
  {
   "cell_type": "code",
   "execution_count": 12,
   "id": "36e5f607",
   "metadata": {},
   "outputs": [
    {
     "name": "stdout",
     "output_type": "stream",
     "text": [
      "D\n",
      "C\n",
      "B\n",
      "A\n"
     ]
    }
   ],
   "source": [
    "#Reverse the singly linked list\n",
    "list1.reverselist()\n",
    "\n",
    "#Show the singly linked list reversed\n",
    "list1.list_traversed()"
   ]
  },
  {
   "cell_type": "markdown",
   "id": "c9ebe95e",
   "metadata": {},
   "source": [
    "### 3. Implement the class Queue using stacks. \n",
    "\n",
    "> a. Analyze the runtime and memory complexity, and compare with what we implemented in class.\n",
    "\n",
    "> b. Implement a few test cases that would allow you to measure the difference in runtime of the `dequeue` method. (Hint: what is the worst case, so that dequeue of the stack implementation is greater than the implementation we did in class?)\n"
   ]
  },
  {
   "cell_type": "code",
   "execution_count": 13,
   "id": "17b56678",
   "metadata": {},
   "outputs": [],
   "source": [
    "class Queue:\n",
    "    def __init__(self):\n",
    "        self.s1 = []\n",
    "        self.s2 = []\n",
    " \n",
    "    def enqueue(self, x):\n",
    "        \"\"\"\n",
    "        Add new item to the queue\n",
    "        \"\"\"\n",
    "        self.s1.append(x)\n",
    " \n",
    "    def dequeue(self):\n",
    "        \"\"\"\n",
    "        Remove the first item in the queue\n",
    "        \"\"\"\n",
    "        #Validate that the queue is not empty\n",
    "        if len(self.s1) == 0 and len(self.s2) == 0:\n",
    "            print(\"Q is Empty\")\n",
    "            return\n",
    " \n",
    "        # See if stack2 is empty and stack1 has elements\n",
    "        elif len(self.s2) == 0 and len(self.s1) > 0:\n",
    "            while len(self.s1):\n",
    "                temp = self.s1.pop()\n",
    "                self.s2.append(temp)\n",
    "            return self.s2.pop()\n",
    " \n",
    "        else:\n",
    "            return self.s2.pop()"
   ]
  },
  {
   "cell_type": "code",
   "execution_count": 14,
   "id": "c51446ff",
   "metadata": {},
   "outputs": [],
   "source": [
    "#Create a queue\n",
    "q = Queue()\n",
    "\n",
    "#Add elements to the queue\n",
    "q.enqueue(1)\n",
    "q.enqueue(2)\n",
    "q.enqueue(3)"
   ]
  },
  {
   "cell_type": "code",
   "execution_count": 15,
   "id": "ce369be6",
   "metadata": {},
   "outputs": [
    {
     "data": {
      "text/plain": [
       "1"
      ]
     },
     "execution_count": 15,
     "metadata": {},
     "output_type": "execute_result"
    }
   ],
   "source": [
    "#Dequeue the first element\n",
    "q.dequeue()"
   ]
  },
  {
   "cell_type": "code",
   "execution_count": 16,
   "id": "f734e82e",
   "metadata": {},
   "outputs": [
    {
     "data": {
      "text/plain": [
       "2"
      ]
     },
     "execution_count": 16,
     "metadata": {},
     "output_type": "execute_result"
    }
   ],
   "source": [
    "q.dequeue()"
   ]
  },
  {
   "cell_type": "code",
   "execution_count": 17,
   "id": "94a65a76",
   "metadata": {},
   "outputs": [
    {
     "data": {
      "text/plain": [
       "3"
      ]
     },
     "execution_count": 17,
     "metadata": {},
     "output_type": "execute_result"
    }
   ],
   "source": [
    "q.dequeue()"
   ]
  },
  {
   "cell_type": "markdown",
   "id": "9381d8a1",
   "metadata": {},
   "source": [
    "a)\n",
    "\n",
    "We can see that enqueue operation has time complexity O(1)\n",
    "\n",
    "Dequeue operation in the worst case has time complexity O(n) as sometimes we have to empty the whole of stack 1 into stack 2. But we can say that we have an Amortized time O(1) because this algorithm has the very bad time complexity only once in a while. Since we have to empty whole of stack 1 only when stack 2 is empty, rest of the times the pop operation takes O(1) time.\n",
    "\n",
    "In class we saw that enqueue is O(N) dequeue is O(1), so comparing with that code, we can see that the implementation of the class Queue using stacks is better as we have time complexity O(1) most of the time. \n",
    "\n",
    "b)"
   ]
  },
  {
   "cell_type": "code",
   "execution_count": 18,
   "id": "92b728c9",
   "metadata": {},
   "outputs": [
    {
     "data": {
      "text/plain": [
       "1"
      ]
     },
     "execution_count": 18,
     "metadata": {},
     "output_type": "execute_result"
    }
   ],
   "source": [
    "#Create a queue\n",
    "Q = Queue()\n",
    "\n",
    "#Add 1 element to the queue\n",
    "Q.enqueue(1)\n",
    "\n",
    "#Dequeue the element\n",
    "Q.dequeue()"
   ]
  },
  {
   "cell_type": "code",
   "execution_count": 19,
   "id": "29ff1c86",
   "metadata": {},
   "outputs": [
    {
     "data": {
      "text/plain": [
       "2"
      ]
     },
     "execution_count": 19,
     "metadata": {},
     "output_type": "execute_result"
    }
   ],
   "source": [
    "#Add another element to the queue\n",
    "Q.enqueue(2)\n",
    "\n",
    "#Dequeue the element\n",
    "Q.dequeue()"
   ]
  },
  {
   "cell_type": "code",
   "execution_count": 20,
   "id": "279c813e",
   "metadata": {},
   "outputs": [
    {
     "data": {
      "text/plain": [
       "3"
      ]
     },
     "execution_count": 20,
     "metadata": {},
     "output_type": "execute_result"
    }
   ],
   "source": [
    "#Add another element to the queue\n",
    "Q.enqueue(3)\n",
    "\n",
    "#Dequeue the element\n",
    "Q.dequeue()"
   ]
  },
  {
   "cell_type": "markdown",
   "id": "102da7bc",
   "metadata": {},
   "source": [
    "When we enqueue and dequeue, the time complexity of the queue will always be O(n) because we will always have to empty the entire stack 1 since stack 2 is also empty."
   ]
  },
  {
   "cell_type": "markdown",
   "id": "af4d174f",
   "metadata": {},
   "source": [
    "### 4. Complete the PriorityQueue class, so that when we call `dequeue`, the element with the highest priority will be returned. Analyze the complexity of runtime and memory of the `enqueue` and `dequeue` methods."
   ]
  },
  {
   "cell_type": "code",
   "execution_count": 21,
   "id": "2ab2d4cf",
   "metadata": {},
   "outputs": [],
   "source": [
    "class Node:\n",
    "  \n",
    "  def __init__(self, info, priority):\n",
    "    self.info = info\n",
    "    self.priority = priority\n",
    "\n",
    "class PriorityQueue:\n",
    "  \n",
    "    def __init__(self):\n",
    "        self.queue = list()\n",
    " \n",
    "    def size(self):\n",
    "        return len(self.queue)\n",
    "    \n",
    "    def enqueue(self, node):\n",
    "        # if queue is empty\n",
    "        if self.size() == 0:\n",
    "            # add the new node\n",
    "            self.queue.append(node)\n",
    "        else:\n",
    "            # traverse the queue to find the right place for new node\n",
    "            for x in range(0, self.size()):\n",
    "                # if the priority of new node is greater\n",
    "                if node.priority >= self.queue[x].priority:\n",
    "                    # if we have traversed the complete queue\n",
    "                    if x == (self.size()-1):\n",
    "                        # add new node at the end\n",
    "                        self.queue.insert(x+1, node)\n",
    "                    else:\n",
    "                        continue\n",
    "                else:\n",
    "                    self.queue.insert(x, node)\n",
    "                    return True\n",
    "\n",
    "    def dequeue(self):\n",
    "        # remove the first node from the queue\n",
    "        return self.queue.pop(0)\n",
    "\n",
    "    def show(self):\n",
    "        for x in self.queue:\n",
    "            print (\"(\"+str(x.info)+\" , \"+str(x.priority)+\")\")        "
   ]
  },
  {
   "cell_type": "code",
   "execution_count": 22,
   "id": "aea982a0",
   "metadata": {},
   "outputs": [
    {
     "name": "stdout",
     "output_type": "stream",
     "text": [
      "(5 , 1)\n",
      "(2 , 5)\n",
      "(4 , 8)\n",
      "--------\n",
      "(2 , 5)\n",
      "(4 , 8)\n"
     ]
    }
   ],
   "source": [
    "#Create a PriorityQueue\n",
    "Q = PriorityQueue()\n",
    "\n",
    "#Create nodes\n",
    "node1 = Node(2, 5)\n",
    "node2 = Node(5, 1)\n",
    "node3 = Node(4, 8)\n",
    "\n",
    "#Add nodes to the PriorityQueue\n",
    "Q.enqueue(node1)\n",
    "Q.enqueue(node2)\n",
    "Q.enqueue(node3)\n",
    "\n",
    "#Show the PriorityQueue\n",
    "Q.show()\n",
    "print(\"--------\")\n",
    "\n",
    "#Dequeue the node with high priority\n",
    "Q.dequeue()\n",
    "\n",
    "#Show the PriorityQueue\n",
    "Q.show()\n"
   ]
  },
  {
   "cell_type": "code",
   "execution_count": 23,
   "id": "ebc72e59",
   "metadata": {},
   "outputs": [
    {
     "name": "stdout",
     "output_type": "stream",
     "text": [
      "(2 , 5)\n",
      "(3 , 6)\n",
      "(4 , 8)\n"
     ]
    }
   ],
   "source": [
    "#Create node with key 6\n",
    "node4 = Node(3, 6)\n",
    "Q.enqueue(node4)\n",
    "\n",
    "#Show the PriorityQueue\n",
    "Q.show()"
   ]
  },
  {
   "cell_type": "markdown",
   "id": "90e9ea5d",
   "metadata": {},
   "source": [
    "Enqueue operation has time complexity O(n)\n",
    "\n",
    "Dequeue operation has time complexity O(1)"
   ]
  },
  {
   "cell_type": "markdown",
   "id": "aff830fc",
   "metadata": {},
   "source": [
    "### 5. A given linked-list (singly or doubly) represents an integer number. For example, 345 is represented by the singly-linked list 3 -> 4 ->5. Write a Python program that does the following:\n",
    "\n",
    "1. Receives three integers A, B and C as inputs. Assume that the three number have the same number of digits.\n",
    "\n",
    "2. Transform the numbers to their corresponding linked lists\n",
    "\n",
    "3. Implement the sum of the three numbers. The result A + B + C must be stored in a linked list. \n",
    "\n",
    "4. Print the result by traversing the list. \n",
    "\n",
    "5. Run your program for numbers with 1 to 100 digits, and capture the runtime. Use these number to estimate the complexity of the runtime.\n",
    "    - Hint: write a small function that uses `randint()` to generate a number of a given number of digits \n",
    "6. Analitically estimate the runtime complexity and compare with the one obtained in (5)."
   ]
  },
  {
   "cell_type": "code",
   "execution_count": 24,
   "id": "ba631eb5",
   "metadata": {},
   "outputs": [
    {
     "data": {
      "text/plain": [
       "50"
      ]
     },
     "execution_count": 24,
     "metadata": {},
     "output_type": "execute_result"
    }
   ],
   "source": [
    "import random\n",
    "len(str(random.randint(10**49, 10**50)))"
   ]
  },
  {
   "cell_type": "code",
   "execution_count": 26,
   "id": "f8134afa",
   "metadata": {},
   "outputs": [
    {
     "name": "stdout",
     "output_type": "stream",
     "text": [
      "tranform of number in list\n",
      "3\n",
      "2\n",
      "1\n",
      "--------\n",
      "Result of sum of 3 numbers in a list\n",
      "5\n",
      "4\n",
      "4\n"
     ]
    }
   ],
   "source": [
    "class Node:\n",
    "    \"\"\"\n",
    "    Implementation of a node\n",
    "    \"\"\"\n",
    "    def __init__(self, val=None):\n",
    "        self.val = val\n",
    "        self.next = None\n",
    "    \n",
    "    def set_next_node(self, next):\n",
    "        self.next = next\n",
    "        \n",
    "def reverse(head):\n",
    "    prev = None\n",
    "    while head:\n",
    "        next = head.next\n",
    "        head.next = prev\n",
    "        prev = head\n",
    "        head = next\n",
    "    return prev\n",
    "\n",
    "def transform(n):\n",
    "    \"\"\"\n",
    "    Transform number to linkly list\n",
    "    \"\"\"\n",
    "    prev = None\n",
    "    while n > 0:\n",
    "        n1 = n % 10\n",
    "        node = Node(n1)\n",
    "        if prev:\n",
    "            prev.next = node\n",
    "        else:\n",
    "            head = node\n",
    "        prev = node\n",
    "        n = n//10\n",
    "    return head\n",
    "\n",
    "print(\"tranform of number in list\")\n",
    "a = transform(123)\n",
    "\n",
    "print(a.val)\n",
    "print(a.next.val)\n",
    "print(a.next.next.val)\n",
    "\n",
    "def suma(a,b,c):\n",
    "\n",
    "    a1 = transform(a)\n",
    "    b1 = transform(b)\n",
    "    c1 = transform(c)\n",
    "\n",
    "    prev = None\n",
    "    carry = 0\n",
    "    \n",
    "    while a1 or b1 or c1:        \n",
    "        x = a1.val\n",
    "        y = b1.val\n",
    "        z = c1.val\n",
    "        val = x + y + z\n",
    "        \n",
    "        if (val >= 10):\n",
    "            carry = val - 10\n",
    "        node = Node(val)\n",
    "        if prev:\n",
    "            prev.next = node\n",
    "        else:\n",
    "            head = node\n",
    "        prev = node\n",
    "        a1 = a1.next\n",
    "        if b1:\n",
    "            b1 = b1.next \n",
    "        if c1:\n",
    "            c1 = c1.next \n",
    "    return reverse(head)\n",
    "\n",
    "#Sum of 3 numbers\n",
    "d = suma(123, 321, 100)\n",
    "\n",
    "print(\"--------\")\n",
    "print(\"Result of sum of 3 numbers in a list\")\n",
    "\n",
    "#Printing the result by traversing the list\n",
    "node = d\n",
    "while node:\n",
    "    print(node.val)\n",
    "    node = node.next"
   ]
  },
  {
   "cell_type": "code",
   "execution_count": null,
   "id": "874e448f",
   "metadata": {},
   "outputs": [],
   "source": []
  }
 ],
 "metadata": {
  "kernelspec": {
   "display_name": "Python 3",
   "language": "python",
   "name": "python3"
  },
  "language_info": {
   "codemirror_mode": {
    "name": "ipython",
    "version": 3
   },
   "file_extension": ".py",
   "mimetype": "text/x-python",
   "name": "python",
   "nbconvert_exporter": "python",
   "pygments_lexer": "ipython3",
   "version": "3.8.8"
  }
 },
 "nbformat": 4,
 "nbformat_minor": 5
}
