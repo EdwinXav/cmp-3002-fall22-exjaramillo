{
 "cells": [
  {
   "cell_type": "code",
   "execution_count": 1,
   "id": "86ab008b",
   "metadata": {},
   "outputs": [],
   "source": [
    "import time\n",
    "import pandas as pd\n",
    "import numpy as np\n",
    "import matplotlib.pyplot as plt\n",
    "%matplotlib inline  "
   ]
  },
  {
   "cell_type": "markdown",
   "id": "012eda26",
   "metadata": {},
   "source": [
    "# Homework 1\n",
    "### Edwin Jaramillo (00320842)"
   ]
  },
  {
   "cell_type": "markdown",
   "id": "6d677bee",
   "metadata": {},
   "source": [
    "### 1. Assume we implemented an algorithm that has complexity approximately $n log(n)$. How much faster is this implementation compared to one of complexity $n^2$?"
   ]
  },
  {
   "cell_type": "code",
   "execution_count": 2,
   "id": "ff4b0ede",
   "metadata": {},
   "outputs": [],
   "source": [
    "r = pd.DataFrame()\n",
    "r['n'] = np.arange(1,10,1)"
   ]
  },
  {
   "cell_type": "code",
   "execution_count": 3,
   "id": "e4068c03",
   "metadata": {},
   "outputs": [],
   "source": [
    "r['log(n)'] = np.log2(r['n'])\n",
    "r['nlog(n)'] = r['n'] * r['log(n)']\n",
    "r['n^2'] = np.power(r['n'],2)"
   ]
  },
  {
   "cell_type": "code",
   "execution_count": 4,
   "id": "efb65712",
   "metadata": {},
   "outputs": [
    {
     "data": {
      "image/png": "[encoded data removed]",
      "text/plain": [
       "<Figure size 432x288 with 1 Axes>"
      ]
     },
     "metadata": {
      "needs_background": "light"
     },
     "output_type": "display_data"
    }
   ],
   "source": [
    "r.plot(x='n', y=['n^2', 'nlog(n)'])#, logy=True)\n",
    "plt.grid()"
   ]
  },
  {
   "cell_type": "markdown",
   "id": "bc2655ce",
   "metadata": {},
   "source": [
    "### 2. The runtime of an algorithm is captured in the following table:\n",
    "\n",
    "As precissely as possible, estimate the function that describes the growth of the runtime \n",
    "\n",
    "|$n$  | runtime -- $T(n)$|\n",
    "|---- | ----- |\n",
    "|1000|0.0|\n",
    "|2000|0.02|\n",
    "|4000|0.2|\n",
    "|8000|0.6|\n",
    "|16000|2.6|\n",
    "|32000|10.4|\n",
    "|64000|41.6|"
   ]
  },
  {
   "cell_type": "code",
   "execution_count": null,
   "id": "d26a4984",
   "metadata": {},
   "outputs": [],
   "source": []
  },
  {
   "cell_type": "markdown",
   "id": "0e28457e",
   "metadata": {},
   "source": [
    "### 3. By estimating the number of operations as a function of $n$, estimate the complexity of the following function\n",
    "\n",
    "```\n",
    "def func1(n):                                n=1\n",
    "    A = range(0,n)\n",
    "    sum = 0\n",
    "    i = 0\n",
    "    for x in A[i:]:\n",
    "        i += 1\n",
    "        for j in range(i, len(A)):\n",
    "            y = A[j]\n",
    "            k = j\n",
    "            while k < len(A):\n",
    "                z = A[k]\n",
    "                k = 2*k\n",
    "                if x + y <= z:\n",
    "                    sum += 1\n",
    "    return sum\n",
    "```"
   ]
  },
  {
   "cell_type": "markdown",
   "id": "60569048",
   "metadata": {},
   "source": [
    "### 4. From class, remember the code we use to get the sum of the first $n$ positive integers:\n",
    "\n",
    "```\n",
    "def sum1(n):\n",
    "    total = 0\n",
    "    for i in range(1, n+1):\n",
    "        total += i\n",
    "    return total\n",
    "```\n",
    "\n",
    "Now consider a different function that does the same thing.\n",
    "\n",
    "```\n",
    "def sum2(n): \n",
    "    total = n*(n+1)//2\n",
    "    return total\n",
    "```\n",
    "\n",
    "1. Run the two functions and make sure that they return the same outputs. Use $n = 5, 8, 103, 527$\n",
    "2. Use Python time library to estimate the runtime for inputs of $n = [1, 10, 10^2, 10^3, 10^4, 10^5, 10^6, 10^7, 10^8, 10^9]$\n",
    "3. Plot the runtime as a function of $n$ for both functions in the same figure. \n",
    "    - Use different line colors and markers to help distinguish between the two curves. \n",
    "4. Analytically estime the runtime functions for the functions `sum1` and `sum2`. Call them $T_1(n)$ and $T_2(n)$.\n",
    "    - Note that the times obtained in your computer will be different to the ones shown in class since the speed and memory of the computers used to run the code are likely different\n",
    "5. How long will it take to run the code for $n = 10^{100}$ using `sum1` and `sum2`? What are your main impressions about the difference?\n",
    "\n",
    "**Hint:** Use and modify the code from the slides to get and plot the runtime\n"
   ]
  },
  {
   "cell_type": "markdown",
   "id": "0b68cc5a",
   "metadata": {},
   "source": [
    "### 5. Prove that the running time of an algorithm is $\\Theta(g(n))$ if and only if its worst-case running time is $O(g(n))$ and its best-case running time is $\\Omega(g(n))$"
   ]
  },
  {
   "cell_type": "markdown",
   "id": "0898b91c",
   "metadata": {},
   "source": [
    "For the best case, there exists a $n_0$ and $c_1$ so that for $n > n_1$:\n",
    "\n",
    "$0 \\leq c_1 g(n) \\leq T_1(n)$\n",
    "\n",
    "for the worst case, there exists a $n_1$ and $c_2$ so that for $n > n_2$\n",
    "\n",
    "$0 \\leq T_2(n) \\leq c_2 g(n)$\n",
    "\n",
    "Then for $n > max(n_1, n_2)$\n",
    "\n",
    "$0 \\leq c_1 g(n) \\leq T_1(n) \\leq T_2(n) \\leq c_2 g(n)$\n",
    "\n",
    "since the execution time is between $T_1$ and $T_2,$ the execution time is $\\Theta(g(n))$"
   ]
  },
  {
   "cell_type": "markdown",
   "id": "cbe48a31",
   "metadata": {},
   "source": [
    "### 6.  Sort the following functions in decreasing order of asymptotic complexity ($O(f(n))$):\n",
    "\n",
    "- $f_1(n) = \\sqrt{n}$\n",
    "- $f_2(n) = n^3$\n",
    "- $f_3(n) = {n\\choose 4}$\n",
    "- $f_4(n) = \\sum_{i=2}^n (i-1)$"
   ]
  },
  {
   "cell_type": "markdown",
   "id": "7e6a81f1",
   "metadata": {},
   "source": [
    "### 7. Implement the methods of the class `Array` that deal with deletion of elements. Consider the 3 cases we considered in class."
   ]
  },
  {
   "cell_type": "code",
   "execution_count": 5,
   "id": "21de5ea1",
   "metadata": {},
   "outputs": [],
   "source": [
    "import ctypes\n",
    "\n",
    "class Array(object):\n",
    "    \"\"\"\n",
    "    Implementation of the array data structure\n",
    "    \"\"\"\n",
    "\n",
    "    def __init__(self, n, values=None):\n",
    "        self.l = 0\n",
    "        self.n = n\n",
    "        self.array = self._create_array(self.n)\n",
    "        if values:\n",
    "            self.initialize_array(values)  \n",
    "            \n",
    "    def _create_array(self, n):\n",
    "        \"\"\"\n",
    "        Creates a new array of capacity n\n",
    "        \"\"\"\n",
    "        return (n * ctypes.py_object)()\n",
    "                \n",
    "        \n",
    "    def __getitem__(self, item_index):\n",
    "        \"\"\"\n",
    "        Return element at item_index\n",
    "        \"\"\"\n",
    "        if (item_index < 0) or (item_index >= self.n):\n",
    "            raise IndexError('index out of range!')\n",
    "        try:\n",
    "            x = self.array[item_index]\n",
    "        except ValueError:\n",
    "            x = None\n",
    "        return x\n",
    "    \n",
    "    def __setitem__(self, item_index, item):\n",
    "        \"\"\"\n",
    "        Set element at item_index\n",
    "        \"\"\"\n",
    "        if (item_index < 0) or (item_index >= self.n):\n",
    "            raise IndexError('index out of range!')\n",
    "        if not self[item_index]:\n",
    "            self.item_count += 1\n",
    "        self.array[item_index] = item\n",
    "    \n",
    "    def initialize_array(self, values):\n",
    "        \"\"\"\n",
    "        Initialize array\n",
    "        \"\"\"\n",
    "        if self.n != len(values):\n",
    "            raise ValueError(\"element count different than capacity\")\n",
    "        for item in values:\n",
    "            self.array[self.item_count] = item\n",
    "            self.item_count += 1\n",
    "            \n",
    "    def list_array(self):\n",
    "        \"\"\"\n",
    "        List elements of the array\n",
    "        using list comprehension\n",
    "        \"\"\"\n",
    "        return \", \".join(str(x) if x is not None else '_' for x in self)\n",
    "\n",
    "    \n",
    "    def insert(self, index, element):\n",
    "        \"\"\"\n",
    "        implementation of insert\n",
    "        \"\"\"\n",
    "        if self.l == self.n:\n",
    "            raise ValueError(\"no more capacity\")\n",
    "        if (index < 0) or (index > self.l):\n",
    "            raise IndexError('index out of range!')\n",
    "        x = self.l\n",
    "        while x > index:\n",
    "            self.array[x] = self.array[x-1]\n",
    "            x -= 1\n",
    "        self.array[index] = element\n",
    "        self.l += 1    \n",
    "\n",
    "\n",
    "    def delete(self, index):\n",
    "        \"\"\"\n",
    "        implementation of delete\n",
    "        \"\"\"\n",
    "        if self.l == self.n:\n",
    "            raise ValueError(\"no more capacity\")\n",
    "        if (index < 0) or (index >= self.l):\n",
    "            raise IndexError('index out of range!')\n",
    "\n",
    "        for x in range(index, self.l-1):\n",
    "            self.array[x] = self.array[x+1]\n",
    "\n",
    "        self.array[self.l - 1] = None\n",
    "        self.l -= 1"
   ]
  },
  {
   "cell_type": "code",
   "execution_count": 6,
   "id": "d4049107",
   "metadata": {},
   "outputs": [],
   "source": [
    "# Create the array\n",
    "X = Array(10)"
   ]
  },
  {
   "cell_type": "code",
   "execution_count": 7,
   "id": "7b66b225",
   "metadata": {},
   "outputs": [
    {
     "data": {
      "text/plain": [
       "'1, 2, 5, 6, 3, _, _, _, _, _'"
      ]
     },
     "execution_count": 7,
     "metadata": {},
     "output_type": "execute_result"
    }
   ],
   "source": [
    "# Insert elements at different positions\n",
    "X.insert(0,3)\n",
    "X.insert(0,2)\n",
    "X.insert(0,1)\n",
    "X.insert(2,5)\n",
    "X.insert(3,6)\n",
    "X.list_array()"
   ]
  },
  {
   "cell_type": "code",
   "execution_count": 8,
   "id": "c18c6c6e",
   "metadata": {},
   "outputs": [
    {
     "data": {
      "text/plain": [
       "'2, 5, 6, 3, _, _, _, _, _, _'"
      ]
     },
     "execution_count": 8,
     "metadata": {},
     "output_type": "execute_result"
    }
   ],
   "source": [
    "# Delete at the beginning\n",
    "X.delete(0)\n",
    "X.list_array()"
   ]
  },
  {
   "cell_type": "code",
   "execution_count": 9,
   "id": "02123988",
   "metadata": {},
   "outputs": [
    {
     "data": {
      "text/plain": [
       "'2, 5, 3, _, _, _, _, _, _, _'"
      ]
     },
     "execution_count": 9,
     "metadata": {},
     "output_type": "execute_result"
    }
   ],
   "source": [
    "# Delete in the middle\n",
    "X.delete(2)\n",
    "X.list_array()"
   ]
  },
  {
   "cell_type": "code",
   "execution_count": 10,
   "id": "500cff61",
   "metadata": {},
   "outputs": [
    {
     "data": {
      "text/plain": [
       "'2, 3, _, _, _, _, _, _, _, _'"
      ]
     },
     "execution_count": 10,
     "metadata": {},
     "output_type": "execute_result"
    }
   ],
   "source": [
    "# Delete at the end\n",
    "X.delete(1)\n",
    "X.list_array()"
   ]
  },
  {
   "cell_type": "code",
   "execution_count": null,
   "id": "111f7c93",
   "metadata": {},
   "outputs": [],
   "source": []
  }
 ],
 "metadata": {
  "kernelspec": {
   "display_name": "Python 3",
   "language": "python",
   "name": "python3"
  },
  "language_info": {
   "codemirror_mode": {
    "name": "ipython",
    "version": 3
   },
   "file_extension": ".py",
   "mimetype": "text/x-python",
   "name": "python",
   "nbconvert_exporter": "python",
   "pygments_lexer": "ipython3",
   "version": "3.8.8"
  }
 },
 "nbformat": 4,
 "nbformat_minor": 5
}
